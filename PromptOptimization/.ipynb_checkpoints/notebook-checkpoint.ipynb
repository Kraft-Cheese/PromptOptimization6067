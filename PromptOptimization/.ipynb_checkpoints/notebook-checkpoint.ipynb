{
 "cells": [
  {
   "cell_type": "markdown",
   "metadata": {},
   "source": [
    "# Mini Project : Prompt Optimization (in typescript)"
   ]
  },
  {
   "cell_type": "markdown",
   "metadata": {},
   "source": [
    "Connect to the ollama model "
   ]
  },
  {
   "cell_type": "code",
   "execution_count": 16,
   "metadata": {},
   "outputs": [],
   "source": [
    "// Type checking and schema validation for Ollama outputs\n",
    "import { OjjsonGenerator } from \"ojjson\";\n",
    "import { z as zod } from \"zod\";"
   ]
  },
  {
   "cell_type": "code",
   "execution_count": 17,
   "metadata": {},
   "outputs": [],
   "source": [
    "// Import the adapter for the model to use\n",
    "import { OllamaAdapter } from \"ojjson\"\n",
    "const adapter = new OllamaAdapter(\"gemma3:4b\");"
   ]
  },
  {
   "cell_type": "code",
   "execution_count": 18,
   "metadata": {},
   "outputs": [],
   "source": [
    "// Input / Output  Schemas using Zod\n",
    "const input = zod.object({\n",
    "  introduction: zod.string(),\n",
    "});\n",
    "\n",
    "const output = zod.object({\n",
    "  name: zod.string(),\n",
    "  age: zod.number(),\n",
    "  location: zod.string(),\n",
    "  occupation: zod.string(),\n",
    "  hobbies: zod.array(zod.string()),\n",
    "});"
   ]
  },
  {
   "cell_type": "code",
   "execution_count": 20,
   "metadata": {},
   "outputs": [],
   "source": [
    "// Test ojjson\n",
    "// Create an instance of OjjsonGenerator\n",
    "const ojjson = new OjjsonGenerator(adapter, input, output, {\n",
    "  // Optional configuration\n",
    "  // How many messages to remember in the chat (default: 10)\n",
    "  // One message = one pair of user and system messages\n",
    "  maxMessages: 10,\n",
    "  // conversionHelp is a string that will be put into the prompt, giving more accurate information on how to map the input to the output, while this is optional, it is recommended to provide it for better results and especially in case of complex conversions\n",
    "  conversionHelp:\n",
    "    \"The input is a string that contains an introduction of a person. The output should be an object with the name, age, location, occupation and hobbies of the person. You can leave out any information that is not in the introduction. `hobbies` is a string array.\",\n",
    "  // You can provide examples to help the model understand the conversion. Those will internally be used as previous messages in the chat.\n",
    "  examples: [\n",
    "    {\n",
    "      input: {\n",
    "        introduction:\n",
    "          \"Hey guys im james from austria, i love to take long walks on the beach and im 21\",\n",
    "      },\n",
    "      output: {\n",
    "        name: \"James\",\n",
    "        age: 21,\n",
    "        location: \"austria\",\n",
    "        occupation: \"\",\n",
    "        hobbies: [\"long walks on the beach\"],\n",
    "      },\n",
    "    },\n",
    "    {\n",
    "      input: { introduction: \"im Peter and im 43 years old\" },\n",
    "      output: {\n",
    "        name: \"Peter\",\n",
    "        age: 43,\n",
    "        location: \"\",\n",
    "        occupation: \"\",\n",
    "        hobbies: [],\n",
    "      },\n",
    "    },\n",
    "  ],\n",
    "});"
   ]
  },
  {
   "cell_type": "code",
   "execution_count": null,
   "metadata": {},
   "outputs": [],
   "source": [
    "const response = await ojjson.generate(\n",
    "  {\n",
    "    introduction:\n",
    "      \"whats up id like to apply for the job, im Caryll from the US, Washington and I have a dog, i work full time in a gas station\",\n",
    "  },\n",
    "  // Optional parameters\n",
    "  // The number of retries to attempt if the conversion fails or fix tries failed (default: 2)\n",
    "  2, // retries\n",
    "  // The number of tries to attempt fixing the conversion if the conversion fails (default: 2)\n",
    "  2 // fixTries\n",
    ");\n",
    "\n",
    "console.log(response);"
   ]
  },
  {
   "cell_type": "code",
   "execution_count": null,
   "metadata": {},
   "outputs": [],
   "source": []
  }
 ],
 "metadata": {
  "kernelspec": {
   "display_name": "Deno",
   "language": "typescript",
   "name": "deno"
  },
  "language_info": {
   "codemirror_mode": "typescript",
   "file_extension": ".ts",
   "mimetype": "text/x.typescript",
   "name": "typescript",
   "nbconvert_exporter": "script",
   "pygments_lexer": "typescript",
   "version": "5.9.2"
  }
 },
 "nbformat": 4,
 "nbformat_minor": 4
}
